{
 "cells": [
  {
   "cell_type": "markdown",
   "metadata": {},
   "source": [
    "## Comparing Structural Variant Calling between HiC-breakfinder and HiSV\n"
   ]
  },
  {
   "cell_type": "code",
   "execution_count": 1,
   "metadata": {},
   "outputs": [],
   "source": [
    "import os\n",
    "import pandas as pd"
   ]
  },
  {
   "cell_type": "code",
   "execution_count": 12,
   "metadata": {},
   "outputs": [],
   "source": [
    "# Headers for input files\n",
    "hisv_intra_header = [\"chrom1\",\"chrom1_start\",\"chrom1_end\",\"chrom2_start\", \"chrom2_end\"]\n",
    "hisv_inter_header = [\"chrom1\",\"chrom1_start\",\"chrom1_end\",\"chrom2\",\"chrom2_start\",\"chrom2_end\"]\n",
    "breakfinder_header= [\"call_odds\",\"chrom1\",\"chrom1_start\",\"chrom1_end\",\"chrom1_strand\",\"chrom2\",\"chrom2_start\",\"chrom2_end\",\"chrom2_strand\",\"resolution\"]"
   ]
  },
  {
   "cell_type": "code",
   "execution_count": 29,
   "metadata": {},
   "outputs": [],
   "source": [
    "# Read the data files\n",
    "breakfinder_raw_data = pd.read_csv(\"/home/wraith-ubuntu/chavez_lab/data/RCMB56/HiC-breakfinder/RCMB56.breaks.txt\", \n",
    "                                  sep='\\t',header=None, names=breakfinder_header)\n",
    "breakfinder_raw_data['source'] = \"breakfinder\"\n",
    "hisv_intra_raw = pd.read_csv(\"/home/wraith-ubuntu/chavez_lab/data/RCMB56/HiSV/HiSV_intra_SV_result.txt\", sep='\\t', header=None, names=hisv_intra_header)\n",
    "hisv_inter_raw = pd.read_csv(\"/home/wraith-ubuntu/chavez_lab/data/RCMB56/HiSV/HiSV_inter_SV_result.txt\",\n",
    "                             sep='\\t', header=None, names=hisv_inter_header)\n",
    "\n",
    "# format hisv data and merge\n",
    "hisv_intra_raw['chrom2'] = hisv_intra_raw['chrom1']\n",
    "hisv_merged = pd.concat([hisv_inter_raw, hisv_intra_raw])\n",
    "hisv_merged['resolution'] = \"50kb\"\n",
    "hisv_merged['source'] = \"hisv\"\n",
    "\n",
    "# merge breakfinder and hisv data\n",
    "sv_calls_merged = pd.concat([breakfinder_raw_data, hisv_merged])\n",
    "sv_calls_merged = sv_calls_merged.drop(columns=['call_odds', 'chrom1_strand', 'chrom2_strand'])\n"
   ]
  }
 ],
 "metadata": {
  "kernelspec": {
   "display_name": "Python 3 (ipykernel)",
   "language": "python",
   "name": "python3"
  },
  "language_info": {
   "codemirror_mode": {
    "name": "ipython",
    "version": 3
   },
   "file_extension": ".py",
   "mimetype": "text/x-python",
   "name": "python",
   "nbconvert_exporter": "python",
   "pygments_lexer": "ipython3",
   "version": "3.11.4"
  },
  "orig_nbformat": 4
 },
 "nbformat": 4,
 "nbformat_minor": 2
}
