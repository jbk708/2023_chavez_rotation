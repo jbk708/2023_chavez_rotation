{
 "cells": [
  {
   "cell_type": "markdown",
   "id": "0b38cad1",
   "metadata": {},
   "source": [
    "### Pulling genes for RNAseq overlay\n"
   ]
  },
  {
   "cell_type": "code",
   "execution_count": null,
   "id": "839645ca",
   "metadata": {},
   "outputs": [],
   "source": [
    "import os\n",
    "\n",
    "import pandas as pd\n",
    "import polars as pl\n",
    "import gtfparse\n",
    "from biomart import BiomartServer\n"
   ]
  },
  {
   "cell_type": "code",
   "execution_count": null,
   "id": "969b70dc",
   "metadata": {},
   "outputs": [],
   "source": [
    "\"\"\"\n",
    "Read and filter hg38 rna annotation file for just genes\n",
    "\"\"\"\n",
    "hg38_rna_anno = gtfparse.read_gtf(\"/Users/jkirkland/2023_chavez_rotation/anno/gencode.v38.annotation.gtf\")\n"
   ]
  },
  {
   "cell_type": "code",
   "execution_count": null,
   "id": "fb8b7b92",
   "metadata": {},
   "outputs": [],
   "source": [
    "hg38_rna_anno_df = hg38_rna_anno.to_pandas()\n",
    "genes_hg38_anno = hg38_rna_anno_df[hg38_rna_anno_df[\"feature\"] == \"gene\"]"
   ]
  },
  {
   "cell_type": "code",
   "execution_count": null,
   "id": "061c58ba",
   "metadata": {},
   "outputs": [],
   "source": [
    "\"\"\"\n",
    "Read and setup normalized RNAseq data\n",
    "\"\"\"\n",
    "medullo_rnaseq_norm = pd.read_csv(\"/Users/jkirkland/2023_chavez_rotation/data/RNAseq/dkfz_RNAseq_v2_rsem_genes_counts.genesymbol.nodup.renamed.norm.txt\", sep=\"\\t\")\n",
    "medullo_rnaseq_norm = medullo_rnaseq_norm.rename(columns={\"Unnamed: 0\": \"gene\"})"
   ]
  },
  {
   "cell_type": "code",
   "execution_count": null,
   "id": "11b409c7",
   "metadata": {},
   "outputs": [],
   "source": [
    "\"\"\"\n",
    "Pull ensembl gene id's\n",
    "\"\"\"\n",
    "\n",
    "def get_ensembl_mappings():                                   \n",
    "    # Set up connection to server                                             \n",
    "    server = biomart.BiomartServer('http://ensembl.org/biomart')         \n",
    "    mart = server.datasets['hsapiens_gene_ensembl']                            \n",
    "                                                                                \n",
    "    # List the types of data we want                                            \n",
    "    attributes = [\"ensembl_gene_id_version\", \"hgnc_symbol\"]\n",
    "                                                                                \n",
    "    # Get the mapping between the attributes                                    \n",
    "    response = mart.search( {'attributes': attributes})                          \n",
    "\n",
    "    # Initialize an empty list to collect the rows\n",
    "    data = []\n",
    "\n",
    "    for line in response.iter_lines():\n",
    "        # Decode the line from the response\n",
    "        line = line.decode('utf-8')\n",
    "        \n",
    "        # Split the line by tabs\n",
    "        line_data = line.split(\"\\t\")\n",
    "        \n",
    "        # Append the line data to the data list\n",
    "        data.append(line_data)\n",
    "\n",
    "    # Create the DataFrame from the list of rows\n",
    "    columns = attributes  # Replace with actual column names\n",
    "    df = pd.DataFrame(data, columns=[\"ensembl_gene_id\", \"gene_name\"])\n",
    "                                   \n",
    "                                                                                \n",
    "              \n",
    "                                                                                \n",
    "    return df\n",
    "\n",
    "ensmbl_ids = get_ensembl_mappings()"
   ]
  },
  {
   "cell_type": "code",
   "execution_count": null,
   "id": "45d19399",
   "metadata": {},
   "outputs": [],
   "source": [
    "medullo_w_gene_id = medullo_rnaseq_norm.merge(ensmbl_ids, how=\"left\", left_on=\"gene\", right_on=\"gene_name\", indicator=True)\n",
    "medullo_w_gene_id[medullo_w_gene_id[\"_merge\"] == \"left_only\"]"
   ]
  },
  {
   "cell_type": "code",
   "execution_count": null,
   "id": "9dafb247",
   "metadata": {},
   "outputs": [],
   "source": [
    "\"\"\"\n",
    "Subsetting Datframe for needed col_names\n",
    "\"\"\"\n",
    "\n",
    "col_names = [\n",
    "    \"gene\", \"MB095\", \"MB106\", \"MB170\", \"MB226\", \"MB247\", \"MB248\", \"MB260\", \"MB164\", \"MB166\",\n",
    "    \"MB271\", \"MB277\", \"MB278\", \"MB288\", \"MB091\", \"MB099\", \"MB118\", \"MB174\", \"MB177\",\n",
    "    \"MB199\", \"MB227\", \"MB264\", \"MB265\", \"MB269\", \"MB270\", \"MB281\", \"MB102\", \"MB104\",\n",
    "    \"MB234\", \"MB239\", \"MB244\", \"MB268\", \"MB274\", \"MB275\", \"MB284\", \"MB088\", \"MB136\",\n",
    "    \"MB206\", \"MB266\", \"MB287\", \"seqname\", \"source\", \"feature\", \"start\", \"end\", \"strand\",\n",
    "    \"gene_id\", \"gene_type\", \"level\", \"hgnc_id\", \"havana_gene\"\n",
    "]\n",
    "merged_subset = medullo_rnaseq_norm.merge(genes_hg38_anno, how=\"left\", left_on=\"gene\", right_on=\"gene_name\", indicator=True)\n",
    "unmerged = merged_subset[~merged_subset['_merge'].isin([\"both\"])]\n",
    "\n",
    "merged_subset.head()\n",
    "# merge_filtered = merged_subset[merged_subset.columns.intersection(col_names)]\n"
   ]
  },
  {
   "cell_type": "code",
   "execution_count": null,
   "id": "108716af",
   "metadata": {},
   "outputs": [],
   "source": [
    "unmerged"
   ]
  },
  {
   "cell_type": "code",
   "execution_count": null,
   "id": "3c797439",
   "metadata": {},
   "outputs": [],
   "source": [
    "\"\"\"\n",
    "Export to CSV\n",
    "\"\"\"\n",
    "merge_filtered.to_csv(\"medullo_rnaseq_annotated.csv\", index=False)"
   ]
  }
 ],
 "metadata": {
  "kernelspec": {
   "display_name": "Python 3 (ipykernel)",
   "language": "python",
   "name": "python3"
  },
  "language_info": {
   "codemirror_mode": {
    "name": "ipython",
    "version": 3
   },
   "file_extension": ".py",
   "mimetype": "text/x-python",
   "name": "python",
   "nbconvert_exporter": "python",
   "pygments_lexer": "ipython3",
   "version": "3.11.6"
  }
 },
 "nbformat": 4,
 "nbformat_minor": 5
}
