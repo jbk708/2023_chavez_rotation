{
 "cells": [
  {
   "cell_type": "code",
   "execution_count": null,
   "metadata": {},
   "outputs": [],
   "source": [
    "import os\n",
    "import pandas as pd\n",
    "import higlass as hg"
   ]
  },
  {
   "cell_type": "code",
   "execution_count": null,
   "metadata": {},
   "outputs": [],
   "source": [
    "tset1 = hg.cooler(\"./Users/jkirkland/chavez_lab/data/MB102/MB102_fixed.mcool\")\n",
    "\n",
    "tset2 = hg.cooler(\"/Users/jkirkland/chavez_lab/data/RCMB56/RCMB56_fixed.mcool\")\n",
    "\n",
    "t1 = tset1.track(\"heatmap\", height=300)\n",
    "t2 = tset2.track(\"heatmap\", height=300)\n",
    "\n",
    "t3 = hg.divide(t1, t2).opts(\n",
    "\n",
    "\n",
    "    colorRange=[\"blue\", \"white\", \"red\"],\n",
    "    valueScaleMin=0.1,\n",
    "    valueScaleMax=10,\n",
    ")\n",
    "\n",
    "domain = (7e7, 8e7)\n",
    "v1 = hg.view(t1, width=4).domain(x=domain)\n",
    "v2 = hg.view(t2, width=4).domain(x=domain)\n",
    "v3 = hg.view(t3, width=4).domain(x=domain)\n",
    "\n",
    "(v1 | v3 | v2).locks(hg.lock(v1, v2, v3))"
   ]
  }
 ],
 "metadata": {
  "kernelspec": {
   "display_name": "Python 3 (ipykernel)",
   "language": "python",
   "name": "python3"
  },
  "language_info": {
   "codemirror_mode": {
    "name": "ipython",
    "version": 3
   },
   "file_extension": ".py",
   "mimetype": "text/x-python",
   "name": "python",
   "nbconvert_exporter": "python",
   "pygments_lexer": "ipython3",
   "version": "3.11.5"
  },
  "orig_nbformat": 4
 },
 "nbformat": 4,
 "nbformat_minor": 2
}
