{
 "cells": [
  {
   "cell_type": "markdown",
   "metadata": {},
   "source": [
    "## Comparing Structural Variant Calling between HiC-breakfinder and HiSV\n"
   ]
  },
  {
   "cell_type": "markdown",
   "metadata": {},
   "source": [
    "### Process:\n",
    "1. Combine HiSV Intra and Inter SV data.\n",
    "2. Merge with Breakfinder Data\n",
    "3. Subset breakfinder data for 10kb res"
   ]
  },
  {
   "cell_type": "code",
   "execution_count": null,
   "metadata": {},
   "outputs": [],
   "source": [
    "import os\n",
    "import pandas as pd\n",
    "import matplotlib.pyplot as plt\n",
    "import numpy as np\n"
   ]
  },
  {
   "cell_type": "code",
   "execution_count": null,
   "metadata": {},
   "outputs": [],
   "source": [
    "# Headers for input files\n",
    "hisv_intra_header = [\"chrom1\",\"chrom1_start\",\"chrom1_end\",\"chrom2_start\", \"chrom2_end\"]\n",
    "hisv_inter_header = [\"chrom1\",\"chrom1_start\",\"chrom1_end\",\"chrom2\",\"chrom2_start\",\"chrom2_end\"]\n",
    "breakfinder_header= [\"call_odds\",\"chrom1\",\"chrom1_start\",\"chrom1_end\",\"chrom1_strand\",\"chrom2\",\"chrom2_start\",\"chrom2_end\",\"chrom2_strand\",\"resolution\"]"
   ]
  },
  {
   "cell_type": "code",
   "execution_count": null,
   "metadata": {},
   "outputs": [],
   "source": [
    "# Read the data files\n",
    "breakfinder_raw_data = pd.read_csv(\"/Users/jkirkland/2023_chavez_rotation/data/RCMB56/HiC-breakfinder/RCMB56.breaks.txt\", \n",
    "                                  sep='\\t',header=None, names=breakfinder_header)\n",
    "breakfinder_raw_data['source'] = \"breakfinder\"\n",
    "hisv_intra_raw = pd.read_csv(\"/Users/jkirkland/2023_chavez_rotation/data/RCMB56/HiSV/HiSV_intra_SV_result.txt\", sep='\\t', header=None, names=hisv_intra_header)\n",
    "hisv_inter_raw = pd.read_csv(\"/Users/jkirkland/2023_chavez_rotation/data/RCMB56/HiSV/HiSV_inter_SV_result.txt\",\n",
    "                             sep='\\t', header=None, names=hisv_inter_header)\n",
    "\n",
    "# format hisv data and merge\n",
    "hisv_intra_raw['chrom2'] = hisv_intra_raw['chrom1']\n",
    "hisv_merged = pd.concat([hisv_inter_raw, hisv_intra_raw])\n",
    "hisv_merged['resolution'] = \"50kb\"\n",
    "hisv_merged['source'] = \"hisv\"\n",
    "\n",
    "# merge breakfinder and hisv data\n",
    "sv_calls_merged = pd.concat([breakfinder_raw_data, hisv_merged])\n",
    "sv_calls_merged = sv_calls_merged.drop(columns=['call_odds', 'chrom1_strand', 'chrom2_strand']).reset_index()\n",
    "sv_calls_merged = sv_calls_merged[sv_calls_merged['resolution'] != '100kb']\n"
   ]
  },
  {
   "cell_type": "code",
   "execution_count": null,
   "metadata": {},
   "outputs": [],
   "source": [
    "ch1_sv_calls = sv_calls_merged[sv_calls_merged['chrom1'] == \"chr1\"] \n",
    "sv_calls_no_chr7 = sv_calls_merged[sv_calls_merged['chrom1'] != 'chr7']\n",
    "sv_calls_chr7 = sv_calls_merged[sv_calls_merged['chrom1'] == 'chr7']\n",
    "\n",
    "grouped_sv_calls = sv_calls_no_chr7.groupby(['chrom1', 'chrom2', 'source']).size().reset_index(name='count')\n",
    "grouped_chr_7 = sv_calls_chr7.groupby(['chrom1', 'chrom2', 'source']).size().reset_index(name='count')\n",
    "\n"
   ]
  },
  {
   "cell_type": "code",
   "execution_count": null,
   "metadata": {},
   "outputs": [],
   "source": [
    "import numpy as np\n",
    "import pandas as pd\n",
    "import matplotlib.pyplot as plt\n",
    "\n",
    "# Assuming result is the DataFrame obtained from the previous steps\n",
    "pivot_df = grouped_sv_calls.pivot(index=['chrom1', 'chrom2'], columns='source', values='count').fillna(0)\n",
    "\n",
    "# Order the chromosomes\n",
    "chrom_order = [f\"chr{i}\" for i in range(1, 23)] + ['chrX', 'chrY']\n",
    "pivot_df = pivot_df.reset_index()\n",
    "pivot_df['chrom1'] = pd.Categorical(pivot_df['chrom1'], categories=chrom_order, ordered=True)\n",
    "pivot_df = pivot_df.sort_values(by=['chrom1', 'chrom2'])\n",
    "pivot_df.set_index(['chrom1', 'chrom2'], inplace=True)\n",
    "\n",
    "# Plotting\n",
    "fig, ax = plt.subplots(figsize=(20,7))\n",
    "\n",
    "bar_width = 0.35\n",
    "positions = np.arange(len(pivot_df))\n",
    "spacing = 0.05\n",
    "\n",
    "# Create bars for each source and include total count in the legend label\n",
    "for i, source in enumerate(pivot_df.columns):\n",
    "    total = pivot_df[source].sum()\n",
    "    label_with_total = f\"{source} (Total: {int(total)})\"\n",
    "    bar_positions = positions + i * (bar_width + spacing)\n",
    "    bars = ax.bar(bar_positions, pivot_df[source], bar_width, label=label_with_total)\n",
    "\n",
    "    # Place counts above bars but hide 0 values\n",
    "    for bar in bars:\n",
    "        height = bar.get_height()\n",
    "        if height != 0:\n",
    "            ax.annotate(f'{int(height)}',\n",
    "                        xy=(bar.get_x() + bar.get_width() / 2, height),\n",
    "                        xytext=(0, 3),  \n",
    "                        textcoords=\"offset points\",\n",
    "                        ha='center', va='bottom')\n",
    "\n",
    "# Adjust the x-ticks\n",
    "ax.set_xticks(positions + (len(pivot_df.columns) * bar_width + spacing) / 2)\n",
    "ax.set_xticklabels(pivot_df.index, rotation=45)\n",
    "ax.yaxis.set_major_locator(plt.MaxNLocator(integer=True))\n",
    "\n",
    "plt.ylabel('Count')\n",
    "plt.title('Comparison of Calls Between Sources')\n",
    "plt.legend()\n",
    "plt.tight_layout()\n",
    "\n",
    "plt.show()\n"
   ]
  },
  {
   "cell_type": "code",
   "execution_count": null,
   "metadata": {},
   "outputs": [],
   "source": [
    "import numpy as np\n",
    "import pandas as pd\n",
    "import matplotlib.pyplot as plt\n",
    "\n",
    "# Assuming result is the DataFrame obtained from the previous steps\n",
    "pivot_df = grouped_chr_7.pivot(index=['chrom1', 'chrom2'], columns='source', values='count').fillna(0)\n",
    "\n",
    "# Order the chromosomes\n",
    "chrom_order = [f\"chr{i}\" for i in range(1, 23)] + ['chrX', 'chrY']\n",
    "pivot_df = pivot_df.reset_index()\n",
    "pivot_df['chrom1'] = pd.Categorical(pivot_df['chrom1'], categories=chrom_order, ordered=True)\n",
    "pivot_df = pivot_df.sort_values(by=['chrom1', 'chrom2'])\n",
    "pivot_df.set_index(['chrom1', 'chrom2'], inplace=True)\n",
    "\n",
    "# Plotting\n",
    "fig, ax = plt.subplots(figsize=(20,7))\n",
    "\n",
    "bar_width = 0.35\n",
    "positions = np.arange(len(pivot_df))\n",
    "spacing = 0.05\n",
    "\n",
    "# Create bars for each source and include total count in the legend label\n",
    "for i, source in enumerate(pivot_df.columns):\n",
    "    total = pivot_df[source].sum()\n",
    "    label_with_total = f\"{source} (Total: {int(total)})\"\n",
    "    bar_positions = positions + i * (bar_width + spacing)\n",
    "    bars = ax.bar(bar_positions, pivot_df[source], bar_width, label=label_with_total)\n",
    "\n",
    "    # Place counts above bars but hide 0 values\n",
    "    for bar in bars:\n",
    "        height = bar.get_height()\n",
    "        if height != 0:\n",
    "            ax.annotate(f'{int(height)}',\n",
    "                        xy=(bar.get_x() + bar.get_width() / 2, height),\n",
    "                        xytext=(0, 3),  \n",
    "                        textcoords=\"offset points\",\n",
    "                        ha='center', va='bottom')\n",
    "\n",
    "# Adjust the x-ticks\n",
    "ax.set_xticks(positions + (len(pivot_df.columns) * bar_width + spacing) / 2)\n",
    "ax.set_xticklabels(pivot_df.index, rotation=45)\n",
    "ax.yaxis.set_major_locator(plt.MaxNLocator(integer=True))\n",
    "\n",
    "plt.ylabel('Count')\n",
    "plt.title('Comparison of Calls Between Sources')\n",
    "plt.legend()\n",
    "plt.tight_layout()\n",
    "\n",
    "plt.show()\n"
   ]
  },
  {
   "cell_type": "code",
   "execution_count": null,
   "metadata": {},
   "outputs": [],
   "source": []
  }
 ],
 "metadata": {
  "kernelspec": {
   "display_name": "Python 3 (ipykernel)",
   "language": "python",
   "name": "python3"
  },
  "language_info": {
   "codemirror_mode": {
    "name": "ipython",
    "version": 3
   },
   "file_extension": ".py",
   "mimetype": "text/x-python",
   "name": "python",
   "nbconvert_exporter": "python",
   "pygments_lexer": "ipython3",
   "version": "3.11.5"
  },
  "orig_nbformat": 4
 },
 "nbformat": 4,
 "nbformat_minor": 2
}
